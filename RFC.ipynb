{
 "cells": [
  {
   "cell_type": "code",
   "execution_count": 1,
   "metadata": {},
   "outputs": [],
   "source": [
    "import pandas as pd\n",
    "dframe = pd.read_csv(r\"C:\\Users\\thapa\\PycharmProjects\\PRProject\\train_2v.csv\")"
   ]
  },
  {
   "cell_type": "code",
   "execution_count": 2,
   "metadata": {},
   "outputs": [
    {
     "name": "stdout",
     "output_type": "stream",
     "text": [
      "0    42617\n",
      "1      783\n",
      "Name: stroke, dtype: int64\n"
     ]
    }
   ],
   "source": [
    "print(dframe['stroke'].value_counts())"
   ]
  },
  {
   "cell_type": "code",
   "execution_count": null,
   "metadata": {},
   "outputs": [],
   "source": []
  },
  {
   "cell_type": "code",
   "execution_count": 10,
   "metadata": {},
   "outputs": [
    {
     "name": "stdout",
     "output_type": "stream",
     "text": [
      "smoking_status       13292\n",
      "bmi                   1462\n",
      "stroke                   0\n",
      "avg_glucose_level        0\n",
      "Residence_type           0\n",
      "dtype: int64\n"
     ]
    }
   ],
   "source": [
    "print(dframe.isnull().sum().sort_values(ascending=False).head())"
   ]
  },
  {
   "cell_type": "code",
   "execution_count": 11,
   "metadata": {},
   "outputs": [],
   "source": [
    "dframe = dframe.dropna(subset=['smoking_status']) "
   ]
  },
  {
   "cell_type": "code",
   "execution_count": 48,
   "metadata": {},
   "outputs": [
    {
     "name": "stdout",
     "output_type": "stream",
     "text": [
      "0    29470\n",
      "1      638\n",
      "Name: stroke, dtype: int64\n"
     ]
    }
   ],
   "source": [
    "print(dframe['stroke'].value_counts())"
   ]
  },
  {
   "cell_type": "code",
   "execution_count": 12,
   "metadata": {},
   "outputs": [
    {
     "name": "stdout",
     "output_type": "stream",
     "text": [
      "bmi                  1036\n",
      "stroke                  0\n",
      "smoking_status          0\n",
      "avg_glucose_level       0\n",
      "Residence_type          0\n",
      "dtype: int64\n"
     ]
    }
   ],
   "source": [
    "print(dframe.isnull().sum().sort_values(ascending=False).head())"
   ]
  },
  {
   "cell_type": "code",
   "execution_count": 13,
   "metadata": {},
   "outputs": [
    {
     "name": "stdout",
     "output_type": "stream",
     "text": [
      "30.0541655201\n",
      "28.9\n"
     ]
    }
   ],
   "source": [
    "print(dframe['bmi'].mean())\n",
    "print(dframe['bmi'].median())"
   ]
  },
  {
   "cell_type": "code",
   "execution_count": 14,
   "metadata": {},
   "outputs": [
    {
     "name": "stdout",
     "output_type": "stream",
     "text": [
      "stroke               0\n",
      "smoking_status       0\n",
      "bmi                  0\n",
      "avg_glucose_level    0\n",
      "Residence_type       0\n",
      "dtype: int64\n",
      "      id  gender   age  hypertension  heart_disease ever_married  \\\n",
      "1  30468    Male  58.0             1              0          Yes   \n",
      "3  56543  Female  70.0             0              0          Yes   \n",
      "6  52800  Female  52.0             0              0          Yes   \n",
      "7  41413  Female  75.0             0              1          Yes   \n",
      "8  15266  Female  32.0             0              0          Yes   \n",
      "\n",
      "       work_type Residence_type  avg_glucose_level   bmi   smoking_status  \\\n",
      "1        Private          Urban              87.96  39.2     never smoked   \n",
      "3        Private          Rural              69.04  35.9  formerly smoked   \n",
      "6        Private          Urban              77.59  17.7  formerly smoked   \n",
      "7  Self-employed          Rural             243.53  27.0     never smoked   \n",
      "8        Private          Rural              77.67  32.3           smokes   \n",
      "\n",
      "   stroke  \n",
      "1       0  \n",
      "3       0  \n",
      "6       0  \n",
      "7       0  \n",
      "8       0  \n"
     ]
    }
   ],
   "source": [
    "dframe['bmi'].fillna(x_initial['bmi'].mean(), inplace=True)\n",
    "\n",
    "print(dframe.isnull().sum().sort_values(ascending=False).head())\n",
    "\n",
    "print(dframe.head(5))"
   ]
  },
  {
   "cell_type": "code",
   "execution_count": 15,
   "metadata": {},
   "outputs": [],
   "source": [
    "def gendervalue(a):\n",
    "    if a == 'Male':\n",
    "        return 1\n",
    "    if a == 'Female':\n",
    "        return 0\n",
    "    if a == 'Other':\n",
    "        return 3\n",
    "    \n",
    "dframe['gender'] = dframe['gender'].apply(gendervalue)"
   ]
  },
  {
   "cell_type": "code",
   "execution_count": 17,
   "metadata": {},
   "outputs": [
    {
     "name": "stdout",
     "output_type": "stream",
     "text": [
      "Private          19585\n",
      "Self-employed     5445\n",
      "Govt_job          4346\n",
      "children           631\n",
      "Never_worked       101\n",
      "Name: work_type, dtype: int64\n"
     ]
    }
   ],
   "source": [
    "print(dframe['work_type'].value_counts().sort_values(ascending=False).head(10))"
   ]
  },
  {
   "cell_type": "code",
   "execution_count": 18,
   "metadata": {},
   "outputs": [],
   "source": [
    "def ever_married_value(a):\n",
    "    if a == 'Yes':\n",
    "        return 1\n",
    "    if a == 'No':\n",
    "        return 0\n",
    "\n",
    "dframe['ever_married'] = dframe['ever_married'].apply(ever_married_value)"
   ]
  },
  {
   "cell_type": "code",
   "execution_count": 19,
   "metadata": {},
   "outputs": [],
   "source": [
    "def work_type_class(a):\n",
    "    if a == 'Private':\n",
    "        return 0\n",
    "    if a == 'Self-employed':\n",
    "        return 1\n",
    "    if a == 'children':\n",
    "        return 2\n",
    "    if a == 'Govt_job':\n",
    "        return 3\n",
    "    if a == 'Never_worked':\n",
    "        return 4\n",
    "    \n",
    "dframe['work_type'] = dframe['work_type'].apply(work_type_class)"
   ]
  },
  {
   "cell_type": "code",
   "execution_count": 20,
   "metadata": {},
   "outputs": [
    {
     "name": "stdout",
     "output_type": "stream",
     "text": [
      "      id  gender   age  hypertension  heart_disease  ever_married  work_type  \\\n",
      "1  30468       1  58.0             1              0             1          0   \n",
      "3  56543       0  70.0             0              0             1          0   \n",
      "6  52800       0  52.0             0              0             1          0   \n",
      "7  41413       0  75.0             0              1             1          1   \n",
      "8  15266       0  32.0             0              0             1          0   \n",
      "\n",
      "   Residence_type  avg_glucose_level   bmi  smoking_status  stroke  \n",
      "1               1              87.96  39.2               0       0  \n",
      "3               0              69.04  35.9               1       0  \n",
      "6               1              77.59  17.7               1       0  \n",
      "7               0             243.53  27.0               0       0  \n",
      "8               0              77.67  32.3               2       0  \n"
     ]
    }
   ],
   "source": [
    "def Residence_type_value(a):\n",
    "    if a == 'Urban':\n",
    "        return 1\n",
    "    if a == 'Rural':\n",
    "        return 0\n",
    "    \n",
    "dframe['Residence_type'] = dframe['Residence_type'].apply(Residence_type_value)\n",
    "\n",
    "def smoking_status_class(a):\n",
    "    if a == 'never smoked':\n",
    "        return 0\n",
    "    if a == 'formerly smoked':\n",
    "        return 1\n",
    "    if a == 'smokes':\n",
    "        return 2\n",
    "    \n",
    "dframe['smoking_status'] = dframe['smoking_status'].apply(smoking_status_class)\n",
    "\n",
    "print(dframe.head(5))"
   ]
  },
  {
   "cell_type": "code",
   "execution_count": 35,
   "metadata": {},
   "outputs": [],
   "source": [
    "\n",
    "# Use numpy to convert to arrays\n",
    "import numpy as np\n",
    "# Labels are the values we want to predict\n",
    "labels = np.array(dframe['stroke'])\n",
    "# Remove the labels from the features\n",
    "# axis 1 refers to the columns\n",
    "features= dframe.drop('stroke', axis = 1)\n",
    "# Saving feature names for later use\n",
    "feature_list = list(features.columns)\n",
    "# Convert to numpy array\n",
    "features = np.array(features)"
   ]
  },
  {
   "cell_type": "code",
   "execution_count": 36,
   "metadata": {},
   "outputs": [],
   "source": [
    "# Using Skicit-learn to split data into training and testing sets\n",
    "from sklearn.model_selection import train_test_split\n",
    "# Split the data into training and testing sets\n",
    "train_features, test_features, train_labels, test_labels = train_test_split(features, labels, test_size = 0.25, random_state = 42)"
   ]
  },
  {
   "cell_type": "code",
   "execution_count": 37,
   "metadata": {},
   "outputs": [
    {
     "name": "stdout",
     "output_type": "stream",
     "text": [
      "('Training Features Shape:', (22581L, 11L))\n",
      "('Training Labels Shape:', (22581L,))\n",
      "('Testing Features Shape:', (7527L, 11L))\n",
      "('Testing Labels Shape:', (7527L,))\n"
     ]
    }
   ],
   "source": [
    "print('Training Features Shape:', train_features.shape)\n",
    "print('Training Labels Shape:', train_labels.shape)\n",
    "print('Testing Features Shape:', test_features.shape)\n",
    "print('Testing Labels Shape:', test_labels.shape)"
   ]
  },
  {
   "cell_type": "code",
   "execution_count": 57,
   "metadata": {},
   "outputs": [],
   "source": [
    "#Import Random Forest Model\n",
    "from sklearn.ensemble import RandomForestClassifier\n",
    "\n",
    "#Create a Gaussian Classifier\n",
    "clf=RandomForestClassifier(n_estimators=100)\n",
    "\n",
    "#Train the model using the training sets y_pred=clf.predict(X_test)\n",
    "clf.fit(train_features,train_labels)\n",
    "\n",
    "y_pred=clf.predict(test_features)\n",
    "\n",
    "# from sklearn.svm import SVC\n",
    "# svm = SVC(kernel='sigmoid')\n",
    "# svm.fit(train_features, train_labels)\n",
    "# print('Accuracy of SVM classifier on training set: {:.2f}'\n",
    "#      .format(svm.score(train_features, train_labels)))\n",
    "# print('Accuracy of SVM classifier on test set: {:.2f}'\n",
    "#      .format(svm.score(test_features, test_labels)))\n",
    "\n"
   ]
  },
  {
   "cell_type": "code",
   "execution_count": 58,
   "metadata": {},
   "outputs": [
    {
     "name": "stdout",
     "output_type": "stream",
     "text": [
      "('Accuracy:', 0.9775474956822107)\n"
     ]
    }
   ],
   "source": [
    "#Import scikit-learn metrics module for accuracy calculation\n",
    "from sklearn import metrics\n",
    "# Model Accuracy, how often is the classifier correct?\n",
    "print(\"Accuracy:\",metrics.accuracy_score(test_labels, y_pred))"
   ]
  },
  {
   "cell_type": "code",
   "execution_count": null,
   "metadata": {},
   "outputs": [],
   "source": []
  }
 ],
 "metadata": {
  "kernelspec": {
   "display_name": "Python 3",
   "language": "python",
   "name": "python3"
  },
  "language_info": {
   "codemirror_mode": {
    "name": "ipython",
    "version": 3
   },
   "file_extension": ".py",
   "mimetype": "text/x-python",
   "name": "python",
   "nbconvert_exporter": "python",
   "pygments_lexer": "ipython3",
   "version": "3.7.0"
  }
 },
 "nbformat": 4,
 "nbformat_minor": 2
}
